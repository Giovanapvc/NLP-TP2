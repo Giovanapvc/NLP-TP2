{
  "nbformat": 4,
  "nbformat_minor": 0,
  "metadata": {
    "colab": {
      "provenance": [],
      "gpuType": "T4"
    },
    "kernelspec": {
      "name": "python3",
      "display_name": "Python 3"
    },
    "language_info": {
      "name": "python"
    },
    "accelerator": "GPU",
    "widgets": {
      "application/vnd.jupyter.widget-state+json": {
        "a4f25cc01be847198e10e91af6a969ea": {
          "model_module": "@jupyter-widgets/controls",
          "model_name": "HBoxModel",
          "model_module_version": "1.5.0",
          "state": {
            "_dom_classes": [],
            "_model_module": "@jupyter-widgets/controls",
            "_model_module_version": "1.5.0",
            "_model_name": "HBoxModel",
            "_view_count": null,
            "_view_module": "@jupyter-widgets/controls",
            "_view_module_version": "1.5.0",
            "_view_name": "HBoxView",
            "box_style": "",
            "children": [
              "IPY_MODEL_7cc969e9b1614a9999a4c7ee401a04b9",
              "IPY_MODEL_b43443074e9a4096b960ea672d568bb5",
              "IPY_MODEL_005a8b253bf64374873ed986f3102c41"
            ],
            "layout": "IPY_MODEL_581352487941403d824f7894ae922752"
          }
        },
        "7cc969e9b1614a9999a4c7ee401a04b9": {
          "model_module": "@jupyter-widgets/controls",
          "model_name": "HTMLModel",
          "model_module_version": "1.5.0",
          "state": {
            "_dom_classes": [],
            "_model_module": "@jupyter-widgets/controls",
            "_model_module_version": "1.5.0",
            "_model_name": "HTMLModel",
            "_view_count": null,
            "_view_module": "@jupyter-widgets/controls",
            "_view_module_version": "1.5.0",
            "_view_name": "HTMLView",
            "description": "",
            "description_tooltip": null,
            "layout": "IPY_MODEL_ed55cfbdab904b0cb5f0917b59988e2c",
            "placeholder": "​",
            "style": "IPY_MODEL_a44fa02f63644168a998b37936acc4c4",
            "value": "tokenizer_config.json: 100%"
          }
        },
        "b43443074e9a4096b960ea672d568bb5": {
          "model_module": "@jupyter-widgets/controls",
          "model_name": "FloatProgressModel",
          "model_module_version": "1.5.0",
          "state": {
            "_dom_classes": [],
            "_model_module": "@jupyter-widgets/controls",
            "_model_module_version": "1.5.0",
            "_model_name": "FloatProgressModel",
            "_view_count": null,
            "_view_module": "@jupyter-widgets/controls",
            "_view_module_version": "1.5.0",
            "_view_name": "ProgressView",
            "bar_style": "success",
            "description": "",
            "description_tooltip": null,
            "layout": "IPY_MODEL_73d9000fb4ae4ed2b96fc25d67e81993",
            "max": 28,
            "min": 0,
            "orientation": "horizontal",
            "style": "IPY_MODEL_d67acbee63fa4c67bf93318ecea2dc9f",
            "value": 28
          }
        },
        "005a8b253bf64374873ed986f3102c41": {
          "model_module": "@jupyter-widgets/controls",
          "model_name": "HTMLModel",
          "model_module_version": "1.5.0",
          "state": {
            "_dom_classes": [],
            "_model_module": "@jupyter-widgets/controls",
            "_model_module_version": "1.5.0",
            "_model_name": "HTMLModel",
            "_view_count": null,
            "_view_module": "@jupyter-widgets/controls",
            "_view_module_version": "1.5.0",
            "_view_name": "HTMLView",
            "description": "",
            "description_tooltip": null,
            "layout": "IPY_MODEL_ea1d42a77d8748b79dcfa056e162890e",
            "placeholder": "​",
            "style": "IPY_MODEL_37b6665594c342e481724fe409d4aa60",
            "value": " 28.0/28.0 [00:00&lt;00:00, 1.64kB/s]"
          }
        },
        "581352487941403d824f7894ae922752": {
          "model_module": "@jupyter-widgets/base",
          "model_name": "LayoutModel",
          "model_module_version": "1.2.0",
          "state": {
            "_model_module": "@jupyter-widgets/base",
            "_model_module_version": "1.2.0",
            "_model_name": "LayoutModel",
            "_view_count": null,
            "_view_module": "@jupyter-widgets/base",
            "_view_module_version": "1.2.0",
            "_view_name": "LayoutView",
            "align_content": null,
            "align_items": null,
            "align_self": null,
            "border": null,
            "bottom": null,
            "display": null,
            "flex": null,
            "flex_flow": null,
            "grid_area": null,
            "grid_auto_columns": null,
            "grid_auto_flow": null,
            "grid_auto_rows": null,
            "grid_column": null,
            "grid_gap": null,
            "grid_row": null,
            "grid_template_areas": null,
            "grid_template_columns": null,
            "grid_template_rows": null,
            "height": null,
            "justify_content": null,
            "justify_items": null,
            "left": null,
            "margin": null,
            "max_height": null,
            "max_width": null,
            "min_height": null,
            "min_width": null,
            "object_fit": null,
            "object_position": null,
            "order": null,
            "overflow": null,
            "overflow_x": null,
            "overflow_y": null,
            "padding": null,
            "right": null,
            "top": null,
            "visibility": null,
            "width": null
          }
        },
        "ed55cfbdab904b0cb5f0917b59988e2c": {
          "model_module": "@jupyter-widgets/base",
          "model_name": "LayoutModel",
          "model_module_version": "1.2.0",
          "state": {
            "_model_module": "@jupyter-widgets/base",
            "_model_module_version": "1.2.0",
            "_model_name": "LayoutModel",
            "_view_count": null,
            "_view_module": "@jupyter-widgets/base",
            "_view_module_version": "1.2.0",
            "_view_name": "LayoutView",
            "align_content": null,
            "align_items": null,
            "align_self": null,
            "border": null,
            "bottom": null,
            "display": null,
            "flex": null,
            "flex_flow": null,
            "grid_area": null,
            "grid_auto_columns": null,
            "grid_auto_flow": null,
            "grid_auto_rows": null,
            "grid_column": null,
            "grid_gap": null,
            "grid_row": null,
            "grid_template_areas": null,
            "grid_template_columns": null,
            "grid_template_rows": null,
            "height": null,
            "justify_content": null,
            "justify_items": null,
            "left": null,
            "margin": null,
            "max_height": null,
            "max_width": null,
            "min_height": null,
            "min_width": null,
            "object_fit": null,
            "object_position": null,
            "order": null,
            "overflow": null,
            "overflow_x": null,
            "overflow_y": null,
            "padding": null,
            "right": null,
            "top": null,
            "visibility": null,
            "width": null
          }
        },
        "a44fa02f63644168a998b37936acc4c4": {
          "model_module": "@jupyter-widgets/controls",
          "model_name": "DescriptionStyleModel",
          "model_module_version": "1.5.0",
          "state": {
            "_model_module": "@jupyter-widgets/controls",
            "_model_module_version": "1.5.0",
            "_model_name": "DescriptionStyleModel",
            "_view_count": null,
            "_view_module": "@jupyter-widgets/base",
            "_view_module_version": "1.2.0",
            "_view_name": "StyleView",
            "description_width": ""
          }
        },
        "73d9000fb4ae4ed2b96fc25d67e81993": {
          "model_module": "@jupyter-widgets/base",
          "model_name": "LayoutModel",
          "model_module_version": "1.2.0",
          "state": {
            "_model_module": "@jupyter-widgets/base",
            "_model_module_version": "1.2.0",
            "_model_name": "LayoutModel",
            "_view_count": null,
            "_view_module": "@jupyter-widgets/base",
            "_view_module_version": "1.2.0",
            "_view_name": "LayoutView",
            "align_content": null,
            "align_items": null,
            "align_self": null,
            "border": null,
            "bottom": null,
            "display": null,
            "flex": null,
            "flex_flow": null,
            "grid_area": null,
            "grid_auto_columns": null,
            "grid_auto_flow": null,
            "grid_auto_rows": null,
            "grid_column": null,
            "grid_gap": null,
            "grid_row": null,
            "grid_template_areas": null,
            "grid_template_columns": null,
            "grid_template_rows": null,
            "height": null,
            "justify_content": null,
            "justify_items": null,
            "left": null,
            "margin": null,
            "max_height": null,
            "max_width": null,
            "min_height": null,
            "min_width": null,
            "object_fit": null,
            "object_position": null,
            "order": null,
            "overflow": null,
            "overflow_x": null,
            "overflow_y": null,
            "padding": null,
            "right": null,
            "top": null,
            "visibility": null,
            "width": null
          }
        },
        "d67acbee63fa4c67bf93318ecea2dc9f": {
          "model_module": "@jupyter-widgets/controls",
          "model_name": "ProgressStyleModel",
          "model_module_version": "1.5.0",
          "state": {
            "_model_module": "@jupyter-widgets/controls",
            "_model_module_version": "1.5.0",
            "_model_name": "ProgressStyleModel",
            "_view_count": null,
            "_view_module": "@jupyter-widgets/base",
            "_view_module_version": "1.2.0",
            "_view_name": "StyleView",
            "bar_color": null,
            "description_width": ""
          }
        },
        "ea1d42a77d8748b79dcfa056e162890e": {
          "model_module": "@jupyter-widgets/base",
          "model_name": "LayoutModel",
          "model_module_version": "1.2.0",
          "state": {
            "_model_module": "@jupyter-widgets/base",
            "_model_module_version": "1.2.0",
            "_model_name": "LayoutModel",
            "_view_count": null,
            "_view_module": "@jupyter-widgets/base",
            "_view_module_version": "1.2.0",
            "_view_name": "LayoutView",
            "align_content": null,
            "align_items": null,
            "align_self": null,
            "border": null,
            "bottom": null,
            "display": null,
            "flex": null,
            "flex_flow": null,
            "grid_area": null,
            "grid_auto_columns": null,
            "grid_auto_flow": null,
            "grid_auto_rows": null,
            "grid_column": null,
            "grid_gap": null,
            "grid_row": null,
            "grid_template_areas": null,
            "grid_template_columns": null,
            "grid_template_rows": null,
            "height": null,
            "justify_content": null,
            "justify_items": null,
            "left": null,
            "margin": null,
            "max_height": null,
            "max_width": null,
            "min_height": null,
            "min_width": null,
            "object_fit": null,
            "object_position": null,
            "order": null,
            "overflow": null,
            "overflow_x": null,
            "overflow_y": null,
            "padding": null,
            "right": null,
            "top": null,
            "visibility": null,
            "width": null
          }
        },
        "37b6665594c342e481724fe409d4aa60": {
          "model_module": "@jupyter-widgets/controls",
          "model_name": "DescriptionStyleModel",
          "model_module_version": "1.5.0",
          "state": {
            "_model_module": "@jupyter-widgets/controls",
            "_model_module_version": "1.5.0",
            "_model_name": "DescriptionStyleModel",
            "_view_count": null,
            "_view_module": "@jupyter-widgets/base",
            "_view_module_version": "1.2.0",
            "_view_name": "StyleView",
            "description_width": ""
          }
        },
        "9e60e379110a4fbeab624c55a9799b89": {
          "model_module": "@jupyter-widgets/controls",
          "model_name": "HBoxModel",
          "model_module_version": "1.5.0",
          "state": {
            "_dom_classes": [],
            "_model_module": "@jupyter-widgets/controls",
            "_model_module_version": "1.5.0",
            "_model_name": "HBoxModel",
            "_view_count": null,
            "_view_module": "@jupyter-widgets/controls",
            "_view_module_version": "1.5.0",
            "_view_name": "HBoxView",
            "box_style": "",
            "children": [
              "IPY_MODEL_7fc0019dc6e94175b108b506bff1537f",
              "IPY_MODEL_a1f12254aeaa4537a8c29b331ee34db7",
              "IPY_MODEL_851fe570cd3f489fa0937417dbffe53b"
            ],
            "layout": "IPY_MODEL_bd721348209d46c790153d0066d48afa"
          }
        },
        "7fc0019dc6e94175b108b506bff1537f": {
          "model_module": "@jupyter-widgets/controls",
          "model_name": "HTMLModel",
          "model_module_version": "1.5.0",
          "state": {
            "_dom_classes": [],
            "_model_module": "@jupyter-widgets/controls",
            "_model_module_version": "1.5.0",
            "_model_name": "HTMLModel",
            "_view_count": null,
            "_view_module": "@jupyter-widgets/controls",
            "_view_module_version": "1.5.0",
            "_view_name": "HTMLView",
            "description": "",
            "description_tooltip": null,
            "layout": "IPY_MODEL_7566ca152d514e068c212328dd99f8ba",
            "placeholder": "​",
            "style": "IPY_MODEL_1f347345d5944e46a1efdd3b4ba82a9d",
            "value": "config.json: 100%"
          }
        },
        "a1f12254aeaa4537a8c29b331ee34db7": {
          "model_module": "@jupyter-widgets/controls",
          "model_name": "FloatProgressModel",
          "model_module_version": "1.5.0",
          "state": {
            "_dom_classes": [],
            "_model_module": "@jupyter-widgets/controls",
            "_model_module_version": "1.5.0",
            "_model_name": "FloatProgressModel",
            "_view_count": null,
            "_view_module": "@jupyter-widgets/controls",
            "_view_module_version": "1.5.0",
            "_view_name": "ProgressView",
            "bar_style": "success",
            "description": "",
            "description_tooltip": null,
            "layout": "IPY_MODEL_957f3df2ba11456f9511457b3ab172e5",
            "max": 384,
            "min": 0,
            "orientation": "horizontal",
            "style": "IPY_MODEL_e77f954c094e44fdab49e6148e2a3c86",
            "value": 384
          }
        },
        "851fe570cd3f489fa0937417dbffe53b": {
          "model_module": "@jupyter-widgets/controls",
          "model_name": "HTMLModel",
          "model_module_version": "1.5.0",
          "state": {
            "_dom_classes": [],
            "_model_module": "@jupyter-widgets/controls",
            "_model_module_version": "1.5.0",
            "_model_name": "HTMLModel",
            "_view_count": null,
            "_view_module": "@jupyter-widgets/controls",
            "_view_module_version": "1.5.0",
            "_view_name": "HTMLView",
            "description": "",
            "description_tooltip": null,
            "layout": "IPY_MODEL_a108ffb724f4448ca8112aa2eb122ce9",
            "placeholder": "​",
            "style": "IPY_MODEL_a5e55d70466641fcb293dac71193b9c9",
            "value": " 384/384 [00:00&lt;00:00, 18.3kB/s]"
          }
        },
        "bd721348209d46c790153d0066d48afa": {
          "model_module": "@jupyter-widgets/base",
          "model_name": "LayoutModel",
          "model_module_version": "1.2.0",
          "state": {
            "_model_module": "@jupyter-widgets/base",
            "_model_module_version": "1.2.0",
            "_model_name": "LayoutModel",
            "_view_count": null,
            "_view_module": "@jupyter-widgets/base",
            "_view_module_version": "1.2.0",
            "_view_name": "LayoutView",
            "align_content": null,
            "align_items": null,
            "align_self": null,
            "border": null,
            "bottom": null,
            "display": null,
            "flex": null,
            "flex_flow": null,
            "grid_area": null,
            "grid_auto_columns": null,
            "grid_auto_flow": null,
            "grid_auto_rows": null,
            "grid_column": null,
            "grid_gap": null,
            "grid_row": null,
            "grid_template_areas": null,
            "grid_template_columns": null,
            "grid_template_rows": null,
            "height": null,
            "justify_content": null,
            "justify_items": null,
            "left": null,
            "margin": null,
            "max_height": null,
            "max_width": null,
            "min_height": null,
            "min_width": null,
            "object_fit": null,
            "object_position": null,
            "order": null,
            "overflow": null,
            "overflow_x": null,
            "overflow_y": null,
            "padding": null,
            "right": null,
            "top": null,
            "visibility": null,
            "width": null
          }
        },
        "7566ca152d514e068c212328dd99f8ba": {
          "model_module": "@jupyter-widgets/base",
          "model_name": "LayoutModel",
          "model_module_version": "1.2.0",
          "state": {
            "_model_module": "@jupyter-widgets/base",
            "_model_module_version": "1.2.0",
            "_model_name": "LayoutModel",
            "_view_count": null,
            "_view_module": "@jupyter-widgets/base",
            "_view_module_version": "1.2.0",
            "_view_name": "LayoutView",
            "align_content": null,
            "align_items": null,
            "align_self": null,
            "border": null,
            "bottom": null,
            "display": null,
            "flex": null,
            "flex_flow": null,
            "grid_area": null,
            "grid_auto_columns": null,
            "grid_auto_flow": null,
            "grid_auto_rows": null,
            "grid_column": null,
            "grid_gap": null,
            "grid_row": null,
            "grid_template_areas": null,
            "grid_template_columns": null,
            "grid_template_rows": null,
            "height": null,
            "justify_content": null,
            "justify_items": null,
            "left": null,
            "margin": null,
            "max_height": null,
            "max_width": null,
            "min_height": null,
            "min_width": null,
            "object_fit": null,
            "object_position": null,
            "order": null,
            "overflow": null,
            "overflow_x": null,
            "overflow_y": null,
            "padding": null,
            "right": null,
            "top": null,
            "visibility": null,
            "width": null
          }
        },
        "1f347345d5944e46a1efdd3b4ba82a9d": {
          "model_module": "@jupyter-widgets/controls",
          "model_name": "DescriptionStyleModel",
          "model_module_version": "1.5.0",
          "state": {
            "_model_module": "@jupyter-widgets/controls",
            "_model_module_version": "1.5.0",
            "_model_name": "DescriptionStyleModel",
            "_view_count": null,
            "_view_module": "@jupyter-widgets/base",
            "_view_module_version": "1.2.0",
            "_view_name": "StyleView",
            "description_width": ""
          }
        },
        "957f3df2ba11456f9511457b3ab172e5": {
          "model_module": "@jupyter-widgets/base",
          "model_name": "LayoutModel",
          "model_module_version": "1.2.0",
          "state": {
            "_model_module": "@jupyter-widgets/base",
            "_model_module_version": "1.2.0",
            "_model_name": "LayoutModel",
            "_view_count": null,
            "_view_module": "@jupyter-widgets/base",
            "_view_module_version": "1.2.0",
            "_view_name": "LayoutView",
            "align_content": null,
            "align_items": null,
            "align_self": null,
            "border": null,
            "bottom": null,
            "display": null,
            "flex": null,
            "flex_flow": null,
            "grid_area": null,
            "grid_auto_columns": null,
            "grid_auto_flow": null,
            "grid_auto_rows": null,
            "grid_column": null,
            "grid_gap": null,
            "grid_row": null,
            "grid_template_areas": null,
            "grid_template_columns": null,
            "grid_template_rows": null,
            "height": null,
            "justify_content": null,
            "justify_items": null,
            "left": null,
            "margin": null,
            "max_height": null,
            "max_width": null,
            "min_height": null,
            "min_width": null,
            "object_fit": null,
            "object_position": null,
            "order": null,
            "overflow": null,
            "overflow_x": null,
            "overflow_y": null,
            "padding": null,
            "right": null,
            "top": null,
            "visibility": null,
            "width": null
          }
        },
        "e77f954c094e44fdab49e6148e2a3c86": {
          "model_module": "@jupyter-widgets/controls",
          "model_name": "ProgressStyleModel",
          "model_module_version": "1.5.0",
          "state": {
            "_model_module": "@jupyter-widgets/controls",
            "_model_module_version": "1.5.0",
            "_model_name": "ProgressStyleModel",
            "_view_count": null,
            "_view_module": "@jupyter-widgets/base",
            "_view_module_version": "1.2.0",
            "_view_name": "StyleView",
            "bar_color": null,
            "description_width": ""
          }
        },
        "a108ffb724f4448ca8112aa2eb122ce9": {
          "model_module": "@jupyter-widgets/base",
          "model_name": "LayoutModel",
          "model_module_version": "1.2.0",
          "state": {
            "_model_module": "@jupyter-widgets/base",
            "_model_module_version": "1.2.0",
            "_model_name": "LayoutModel",
            "_view_count": null,
            "_view_module": "@jupyter-widgets/base",
            "_view_module_version": "1.2.0",
            "_view_name": "LayoutView",
            "align_content": null,
            "align_items": null,
            "align_self": null,
            "border": null,
            "bottom": null,
            "display": null,
            "flex": null,
            "flex_flow": null,
            "grid_area": null,
            "grid_auto_columns": null,
            "grid_auto_flow": null,
            "grid_auto_rows": null,
            "grid_column": null,
            "grid_gap": null,
            "grid_row": null,
            "grid_template_areas": null,
            "grid_template_columns": null,
            "grid_template_rows": null,
            "height": null,
            "justify_content": null,
            "justify_items": null,
            "left": null,
            "margin": null,
            "max_height": null,
            "max_width": null,
            "min_height": null,
            "min_width": null,
            "object_fit": null,
            "object_position": null,
            "order": null,
            "overflow": null,
            "overflow_x": null,
            "overflow_y": null,
            "padding": null,
            "right": null,
            "top": null,
            "visibility": null,
            "width": null
          }
        },
        "a5e55d70466641fcb293dac71193b9c9": {
          "model_module": "@jupyter-widgets/controls",
          "model_name": "DescriptionStyleModel",
          "model_module_version": "1.5.0",
          "state": {
            "_model_module": "@jupyter-widgets/controls",
            "_model_module_version": "1.5.0",
            "_model_name": "DescriptionStyleModel",
            "_view_count": null,
            "_view_module": "@jupyter-widgets/base",
            "_view_module_version": "1.2.0",
            "_view_name": "StyleView",
            "description_width": ""
          }
        },
        "cbba743dd754473696f7cbab7f5f236a": {
          "model_module": "@jupyter-widgets/controls",
          "model_name": "HBoxModel",
          "model_module_version": "1.5.0",
          "state": {
            "_dom_classes": [],
            "_model_module": "@jupyter-widgets/controls",
            "_model_module_version": "1.5.0",
            "_model_name": "HBoxModel",
            "_view_count": null,
            "_view_module": "@jupyter-widgets/controls",
            "_view_module_version": "1.5.0",
            "_view_name": "HBoxView",
            "box_style": "",
            "children": [
              "IPY_MODEL_d926f009a448407a86f38fe3e090be45",
              "IPY_MODEL_c402ef9f01294d39821bfdaadb51b338",
              "IPY_MODEL_954b94e94f374c69a5561e0352a8c7de"
            ],
            "layout": "IPY_MODEL_fb08d0c4e04e43d08f60dcfae30c48f0"
          }
        },
        "d926f009a448407a86f38fe3e090be45": {
          "model_module": "@jupyter-widgets/controls",
          "model_name": "HTMLModel",
          "model_module_version": "1.5.0",
          "state": {
            "_dom_classes": [],
            "_model_module": "@jupyter-widgets/controls",
            "_model_module_version": "1.5.0",
            "_model_name": "HTMLModel",
            "_view_count": null,
            "_view_module": "@jupyter-widgets/controls",
            "_view_module_version": "1.5.0",
            "_view_name": "HTMLView",
            "description": "",
            "description_tooltip": null,
            "layout": "IPY_MODEL_8727005b360a4fa5b1f8eb71012dcb4b",
            "placeholder": "​",
            "style": "IPY_MODEL_91268267806d4cbba3dfa1047fb9f4c3",
            "value": "vocab.txt: 100%"
          }
        },
        "c402ef9f01294d39821bfdaadb51b338": {
          "model_module": "@jupyter-widgets/controls",
          "model_name": "FloatProgressModel",
          "model_module_version": "1.5.0",
          "state": {
            "_dom_classes": [],
            "_model_module": "@jupyter-widgets/controls",
            "_model_module_version": "1.5.0",
            "_model_name": "FloatProgressModel",
            "_view_count": null,
            "_view_module": "@jupyter-widgets/controls",
            "_view_module_version": "1.5.0",
            "_view_name": "ProgressView",
            "bar_style": "success",
            "description": "",
            "description_tooltip": null,
            "layout": "IPY_MODEL_da582e5286ae4aebb1192b5eba0ea916",
            "max": 504478,
            "min": 0,
            "orientation": "horizontal",
            "style": "IPY_MODEL_1d40ff78e1c044b4a5115237974e46f5",
            "value": 504478
          }
        },
        "954b94e94f374c69a5561e0352a8c7de": {
          "model_module": "@jupyter-widgets/controls",
          "model_name": "HTMLModel",
          "model_module_version": "1.5.0",
          "state": {
            "_dom_classes": [],
            "_model_module": "@jupyter-widgets/controls",
            "_model_module_version": "1.5.0",
            "_model_name": "HTMLModel",
            "_view_count": null,
            "_view_module": "@jupyter-widgets/controls",
            "_view_module_version": "1.5.0",
            "_view_name": "HTMLView",
            "description": "",
            "description_tooltip": null,
            "layout": "IPY_MODEL_da4dac2f9f844fdcb8041cb89c5e25b5",
            "placeholder": "​",
            "style": "IPY_MODEL_23f93cef70c34d72a745b1acafd5601b",
            "value": " 504k/504k [00:00&lt;00:00, 4.95MB/s]"
          }
        },
        "fb08d0c4e04e43d08f60dcfae30c48f0": {
          "model_module": "@jupyter-widgets/base",
          "model_name": "LayoutModel",
          "model_module_version": "1.2.0",
          "state": {
            "_model_module": "@jupyter-widgets/base",
            "_model_module_version": "1.2.0",
            "_model_name": "LayoutModel",
            "_view_count": null,
            "_view_module": "@jupyter-widgets/base",
            "_view_module_version": "1.2.0",
            "_view_name": "LayoutView",
            "align_content": null,
            "align_items": null,
            "align_self": null,
            "border": null,
            "bottom": null,
            "display": null,
            "flex": null,
            "flex_flow": null,
            "grid_area": null,
            "grid_auto_columns": null,
            "grid_auto_flow": null,
            "grid_auto_rows": null,
            "grid_column": null,
            "grid_gap": null,
            "grid_row": null,
            "grid_template_areas": null,
            "grid_template_columns": null,
            "grid_template_rows": null,
            "height": null,
            "justify_content": null,
            "justify_items": null,
            "left": null,
            "margin": null,
            "max_height": null,
            "max_width": null,
            "min_height": null,
            "min_width": null,
            "object_fit": null,
            "object_position": null,
            "order": null,
            "overflow": null,
            "overflow_x": null,
            "overflow_y": null,
            "padding": null,
            "right": null,
            "top": null,
            "visibility": null,
            "width": null
          }
        },
        "8727005b360a4fa5b1f8eb71012dcb4b": {
          "model_module": "@jupyter-widgets/base",
          "model_name": "LayoutModel",
          "model_module_version": "1.2.0",
          "state": {
            "_model_module": "@jupyter-widgets/base",
            "_model_module_version": "1.2.0",
            "_model_name": "LayoutModel",
            "_view_count": null,
            "_view_module": "@jupyter-widgets/base",
            "_view_module_version": "1.2.0",
            "_view_name": "LayoutView",
            "align_content": null,
            "align_items": null,
            "align_self": null,
            "border": null,
            "bottom": null,
            "display": null,
            "flex": null,
            "flex_flow": null,
            "grid_area": null,
            "grid_auto_columns": null,
            "grid_auto_flow": null,
            "grid_auto_rows": null,
            "grid_column": null,
            "grid_gap": null,
            "grid_row": null,
            "grid_template_areas": null,
            "grid_template_columns": null,
            "grid_template_rows": null,
            "height": null,
            "justify_content": null,
            "justify_items": null,
            "left": null,
            "margin": null,
            "max_height": null,
            "max_width": null,
            "min_height": null,
            "min_width": null,
            "object_fit": null,
            "object_position": null,
            "order": null,
            "overflow": null,
            "overflow_x": null,
            "overflow_y": null,
            "padding": null,
            "right": null,
            "top": null,
            "visibility": null,
            "width": null
          }
        },
        "91268267806d4cbba3dfa1047fb9f4c3": {
          "model_module": "@jupyter-widgets/controls",
          "model_name": "DescriptionStyleModel",
          "model_module_version": "1.5.0",
          "state": {
            "_model_module": "@jupyter-widgets/controls",
            "_model_module_version": "1.5.0",
            "_model_name": "DescriptionStyleModel",
            "_view_count": null,
            "_view_module": "@jupyter-widgets/base",
            "_view_module_version": "1.2.0",
            "_view_name": "StyleView",
            "description_width": ""
          }
        },
        "da582e5286ae4aebb1192b5eba0ea916": {
          "model_module": "@jupyter-widgets/base",
          "model_name": "LayoutModel",
          "model_module_version": "1.2.0",
          "state": {
            "_model_module": "@jupyter-widgets/base",
            "_model_module_version": "1.2.0",
            "_model_name": "LayoutModel",
            "_view_count": null,
            "_view_module": "@jupyter-widgets/base",
            "_view_module_version": "1.2.0",
            "_view_name": "LayoutView",
            "align_content": null,
            "align_items": null,
            "align_self": null,
            "border": null,
            "bottom": null,
            "display": null,
            "flex": null,
            "flex_flow": null,
            "grid_area": null,
            "grid_auto_columns": null,
            "grid_auto_flow": null,
            "grid_auto_rows": null,
            "grid_column": null,
            "grid_gap": null,
            "grid_row": null,
            "grid_template_areas": null,
            "grid_template_columns": null,
            "grid_template_rows": null,
            "height": null,
            "justify_content": null,
            "justify_items": null,
            "left": null,
            "margin": null,
            "max_height": null,
            "max_width": null,
            "min_height": null,
            "min_width": null,
            "object_fit": null,
            "object_position": null,
            "order": null,
            "overflow": null,
            "overflow_x": null,
            "overflow_y": null,
            "padding": null,
            "right": null,
            "top": null,
            "visibility": null,
            "width": null
          }
        },
        "1d40ff78e1c044b4a5115237974e46f5": {
          "model_module": "@jupyter-widgets/controls",
          "model_name": "ProgressStyleModel",
          "model_module_version": "1.5.0",
          "state": {
            "_model_module": "@jupyter-widgets/controls",
            "_model_module_version": "1.5.0",
            "_model_name": "ProgressStyleModel",
            "_view_count": null,
            "_view_module": "@jupyter-widgets/base",
            "_view_module_version": "1.2.0",
            "_view_name": "StyleView",
            "bar_color": null,
            "description_width": ""
          }
        },
        "da4dac2f9f844fdcb8041cb89c5e25b5": {
          "model_module": "@jupyter-widgets/base",
          "model_name": "LayoutModel",
          "model_module_version": "1.2.0",
          "state": {
            "_model_module": "@jupyter-widgets/base",
            "_model_module_version": "1.2.0",
            "_model_name": "LayoutModel",
            "_view_count": null,
            "_view_module": "@jupyter-widgets/base",
            "_view_module_version": "1.2.0",
            "_view_name": "LayoutView",
            "align_content": null,
            "align_items": null,
            "align_self": null,
            "border": null,
            "bottom": null,
            "display": null,
            "flex": null,
            "flex_flow": null,
            "grid_area": null,
            "grid_auto_columns": null,
            "grid_auto_flow": null,
            "grid_auto_rows": null,
            "grid_column": null,
            "grid_gap": null,
            "grid_row": null,
            "grid_template_areas": null,
            "grid_template_columns": null,
            "grid_template_rows": null,
            "height": null,
            "justify_content": null,
            "justify_items": null,
            "left": null,
            "margin": null,
            "max_height": null,
            "max_width": null,
            "min_height": null,
            "min_width": null,
            "object_fit": null,
            "object_position": null,
            "order": null,
            "overflow": null,
            "overflow_x": null,
            "overflow_y": null,
            "padding": null,
            "right": null,
            "top": null,
            "visibility": null,
            "width": null
          }
        },
        "23f93cef70c34d72a745b1acafd5601b": {
          "model_module": "@jupyter-widgets/controls",
          "model_name": "DescriptionStyleModel",
          "model_module_version": "1.5.0",
          "state": {
            "_model_module": "@jupyter-widgets/controls",
            "_model_module_version": "1.5.0",
            "_model_name": "DescriptionStyleModel",
            "_view_count": null,
            "_view_module": "@jupyter-widgets/base",
            "_view_module_version": "1.2.0",
            "_view_name": "StyleView",
            "description_width": ""
          }
        }
      }
    }
  },
  "cells": [
    {
      "cell_type": "markdown",
      "source": [
        "# **Trabalho 2 - Processamento de Linguagem Natural**\n",
        "\n",
        "## Giovana Piorino Vieira de Carvalho - Matrícula: 2022035989"
      ],
      "metadata": {
        "id": "I4Lj-YyCSp2D"
      }
    },
    {
      "cell_type": "markdown",
      "source": [
        "###Você pode rodar uma cópia do código no colab: https://colab.research.google.com/drive/11LOCFq8A8sflhRLUfHzE6bazgEY8cazd?usp=sharing, após adicionar o corpus MacMorpho na pasta. Também é possível acessar pelo github: https://github.com/Giovanapvc/NLP-TP2"
      ],
      "metadata": {
        "id": "vFQNUb6QnN_A"
      }
    },
    {
      "cell_type": "markdown",
      "source": [
        "## Explicação do modelo utilizado\n",
        "\n",
        "No código abaixo, um treinamento é realizado a partir do modelo base pablocosta/bertabaporu-base-uncased(disponível em https://huggingface.co/pablocosta/bertabaporu-base-uncased), um modelo BERT treinado a partir de uma base de dados de tweets em português brasileiro.\n",
        "\n",
        "Assim, o modelo foi treinado para o corpus MacMorpho(também em português brasileiro), de forma a executar a tarefa de POS Tagging, a partir dos arquivos de treino e validação disponibilizados(macmorpho-train e macmorpho-dev). Em seguida, a partir do conjunto de teste(sinalizado pelo arquivo macmorpho-test.txt), o modelo, após o seu treinamento, foi testado de forma a avaliar sua performance. As principais métricas se encontram no classification report realizado."
      ],
      "metadata": {
        "id": "Jf13bvrXSuPm"
      }
    },
    {
      "cell_type": "code",
      "execution_count": 2,
      "metadata": {
        "id": "VJo7ZnxbCLDs"
      },
      "outputs": [],
      "source": [
        "# A função abaixo carrega os arquivos do corpus MacMorpho e organiza as sentenças e as categorias de POS Tagging utilizadas em treino, teste e validação\n",
        "\n",
        "def load_corpus(filepath):\n",
        "    sentences, tags = [], []\n",
        "\n",
        "    with open(filepath, \"r\", encoding=\"utf-8\") as f:\n",
        "        for line in f:\n",
        "            line = line.strip()\n",
        "            if line:\n",
        "                words, pos_tags = [], []\n",
        "                for pair in line.split():\n",
        "                    if \"_\" in pair:\n",
        "                        word, pos = pair.rsplit(\"_\", 1)\n",
        "                        words.append(word)\n",
        "                        pos_tags.append(pos)\n",
        "                    else:\n",
        "                        print(f\"Formato inesperado na linha: {pair}\")\n",
        "                sentences.append(words)\n",
        "                tags.append(pos_tags)\n",
        "\n",
        "    return sentences, tags\n",
        "\n",
        "train_file = \"macmorpho-train.txt\"\n",
        "val_file = \"macmorpho-dev.txt\"\n",
        "test_file = \"macmorpho-test.txt\"\n",
        "\n",
        "train_sentences, train_tags = load_corpus(train_file)\n",
        "val_sentences, val_tags = load_corpus(val_file)\n",
        "test_sentences, test_tags = load_corpus(test_file)\n"
      ]
    },
    {
      "cell_type": "code",
      "source": [
        "# Construção do mapeamento de tags para índices\n",
        "unique_tags = set(tag for tags in train_tags for tag in tags)\n",
        "tag2idx = {tag: idx for idx, tag in enumerate(unique_tags)}\n",
        "idx2tag = {idx: tag for tag, idx in tag2idx.items()}\n"
      ],
      "metadata": {
        "id": "lGPXg_9xCd0N"
      },
      "execution_count": null,
      "outputs": []
    },
    {
      "cell_type": "code",
      "source": [
        "# A função tokeniza sentenças e alinha rótulos com os tokens gerados, garantindo que etiquetas correspondam às palavras originais\n",
        "\n",
        "from transformers import AutoTokenizer\n",
        "\n",
        "tokenizer = AutoTokenizer.from_pretrained(\"pablocosta/bertabaporu-base-uncased\")\n",
        "\n",
        "def tokenize_and_align_labels(sentences, tags):\n",
        "    tokenized_inputs = tokenizer(sentences, truncation=True, is_split_into_words=True, padding=True)\n",
        "    aligned_labels = []\n",
        "    for i, label in enumerate(tags):\n",
        "        word_ids = tokenized_inputs.word_ids(batch_index=i)\n",
        "        previous_word_idx = None\n",
        "        label_ids = []\n",
        "        for word_idx in word_ids:\n",
        "            if word_idx is None:\n",
        "                label_ids.append(-100)\n",
        "            elif word_idx != previous_word_idx:\n",
        "                label_ids.append(tag2idx[label[word_idx]])\n",
        "            else:\n",
        "                label_ids.append(-100)\n",
        "            previous_word_idx = word_idx\n",
        "        aligned_labels.append(label_ids)\n",
        "    tokenized_inputs[\"labels\"] = aligned_labels\n",
        "    return tokenized_inputs\n",
        "\n",
        "train_encodings = tokenize_and_align_labels(train_sentences, train_tags)\n",
        "val_encodings = tokenize_and_align_labels(val_sentences, val_tags)\n",
        "test_encodings = tokenize_and_align_labels(test_sentences, test_tags)\n"
      ],
      "metadata": {
        "colab": {
          "base_uri": "https://localhost:8080/",
          "height": 255,
          "referenced_widgets": [
            "a4f25cc01be847198e10e91af6a969ea",
            "7cc969e9b1614a9999a4c7ee401a04b9",
            "b43443074e9a4096b960ea672d568bb5",
            "005a8b253bf64374873ed986f3102c41",
            "581352487941403d824f7894ae922752",
            "ed55cfbdab904b0cb5f0917b59988e2c",
            "a44fa02f63644168a998b37936acc4c4",
            "73d9000fb4ae4ed2b96fc25d67e81993",
            "d67acbee63fa4c67bf93318ecea2dc9f",
            "ea1d42a77d8748b79dcfa056e162890e",
            "37b6665594c342e481724fe409d4aa60",
            "9e60e379110a4fbeab624c55a9799b89",
            "7fc0019dc6e94175b108b506bff1537f",
            "a1f12254aeaa4537a8c29b331ee34db7",
            "851fe570cd3f489fa0937417dbffe53b",
            "bd721348209d46c790153d0066d48afa",
            "7566ca152d514e068c212328dd99f8ba",
            "1f347345d5944e46a1efdd3b4ba82a9d",
            "957f3df2ba11456f9511457b3ab172e5",
            "e77f954c094e44fdab49e6148e2a3c86",
            "a108ffb724f4448ca8112aa2eb122ce9",
            "a5e55d70466641fcb293dac71193b9c9",
            "cbba743dd754473696f7cbab7f5f236a",
            "d926f009a448407a86f38fe3e090be45",
            "c402ef9f01294d39821bfdaadb51b338",
            "954b94e94f374c69a5561e0352a8c7de",
            "fb08d0c4e04e43d08f60dcfae30c48f0",
            "8727005b360a4fa5b1f8eb71012dcb4b",
            "91268267806d4cbba3dfa1047fb9f4c3",
            "da582e5286ae4aebb1192b5eba0ea916",
            "1d40ff78e1c044b4a5115237974e46f5",
            "da4dac2f9f844fdcb8041cb89c5e25b5",
            "23f93cef70c34d72a745b1acafd5601b"
          ]
        },
        "id": "rbz4e4BBCd6G",
        "outputId": "ed2be39b-0f2d-44ff-ec4c-fb350b25b821"
      },
      "execution_count": null,
      "outputs": [
        {
          "output_type": "stream",
          "name": "stderr",
          "text": [
            "/usr/local/lib/python3.11/dist-packages/huggingface_hub/utils/_auth.py:94: UserWarning: \n",
            "The secret `HF_TOKEN` does not exist in your Colab secrets.\n",
            "To authenticate with the Hugging Face Hub, create a token in your settings tab (https://huggingface.co/settings/tokens), set it as secret in your Google Colab and restart your session.\n",
            "You will be able to reuse this secret in all of your notebooks.\n",
            "Please note that authentication is recommended but still optional to access public models or datasets.\n",
            "  warnings.warn(\n"
          ]
        },
        {
          "output_type": "display_data",
          "data": {
            "text/plain": [
              "tokenizer_config.json:   0%|          | 0.00/28.0 [00:00<?, ?B/s]"
            ],
            "application/vnd.jupyter.widget-view+json": {
              "version_major": 2,
              "version_minor": 0,
              "model_id": "a4f25cc01be847198e10e91af6a969ea"
            }
          },
          "metadata": {}
        },
        {
          "output_type": "display_data",
          "data": {
            "text/plain": [
              "config.json:   0%|          | 0.00/384 [00:00<?, ?B/s]"
            ],
            "application/vnd.jupyter.widget-view+json": {
              "version_major": 2,
              "version_minor": 0,
              "model_id": "9e60e379110a4fbeab624c55a9799b89"
            }
          },
          "metadata": {}
        },
        {
          "output_type": "display_data",
          "data": {
            "text/plain": [
              "vocab.txt:   0%|          | 0.00/504k [00:00<?, ?B/s]"
            ],
            "application/vnd.jupyter.widget-view+json": {
              "version_major": 2,
              "version_minor": 0,
              "model_id": "cbba743dd754473696f7cbab7f5f236a"
            }
          },
          "metadata": {}
        },
        {
          "output_type": "stream",
          "name": "stderr",
          "text": [
            "Asking to truncate to max_length but no maximum length is provided and the model has no predefined maximum length. Default to no truncation.\n"
          ]
        }
      ]
    },
    {
      "cell_type": "code",
      "source": [
        "# A classe define um dataset personalizado para manipular os dados tokenizados, facilitando seu uso com\n",
        "# DataLoaders do PyTorch em tarefas de treinamento e avaliação de modelos.\n",
        "\n",
        "import torch\n",
        "\n",
        "class MacMorphoDataset(torch.utils.data.Dataset):\n",
        "    def __init__(self, encodings):\n",
        "        self.encodings = encodings\n",
        "\n",
        "    def __len__(self):\n",
        "        return len(self.encodings[\"input_ids\"])\n",
        "\n",
        "    def __getitem__(self, idx):\n",
        "        return {key: torch.tensor(val[idx]) for key, val in self.encodings.items()}\n",
        "\n",
        "\n",
        "train_dataset = MacMorphoDataset(train_encodings)\n",
        "val_dataset = MacMorphoDataset(val_encodings)\n",
        "test_dataset = MacMorphoDataset(test_encodings)\n"
      ],
      "metadata": {
        "id": "t9pScW7nCkVB"
      },
      "execution_count": null,
      "outputs": []
    },
    {
      "cell_type": "code",
      "source": [
        "# Código adicional para configurar o Accelerate\n",
        "\n",
        "from accelerate import Accelerator, DataLoaderConfiguration\n",
        "\n",
        "dataloader_config = DataLoaderConfiguration(\n",
        "    dispatch_batches=False,\n",
        "    split_batches=True\n",
        ")\n",
        "\n",
        "accelerator = Accelerator(dataloader_config=dataloader_config)"
      ],
      "metadata": {
        "id": "r__jL7aXCpKG"
      },
      "execution_count": null,
      "outputs": []
    },
    {
      "cell_type": "markdown",
      "source": [
        "##Treinamento do modelo\n",
        "\n",
        "O código abaixo sumariza os parâmetros utilizados para o treinamento do modelo com ênfase na tarefa de POS Tagging, a partir do corpus MacMorpho, tokenizado anteriormente.\n",
        "\n",
        "Os parâmetros de treinamento foram definidos usando a classe TrainingArguments, incluindo uma taxa de aprendizado de 5e-5, tamanho de lote de 16 por dispositivo para treinamento e avaliação, três épocas de treinamento, e um peso de regularização (weight decay) de 0.01 para evitar overfitting. O modelo foi configurado para ser avaliado e salvo ao final de cada época, com os logs armazenados em um diretório editável. O treinamento foi gerenciado pela classe Trainer, que recebeu o modelo, os argumentos, os conjuntos de dados de treinamento e validação, e o tokenizador para preparar as entradas. O processo foi iniciado com train(), permitindo a otimização dos pesos do modelo e o salvamento dos checkpoints ao longo do treinamento.\n",
        "\n",
        "Na primeira época, a perda de treinamento foi de 0.1035 e a de validação foi de 0.0901. Na segunda época, a perda de treinamento diminuiu para 0.0560, enquanto a perda de validação também reduziu ligeiramente para 0.0873. Na terceira época, a perda de treinamento caiu para 0.0291, mas a perda de validação aumentou levemente para 0.0930, sugerindo que o modelo pode estar começando sofrer overfitting, e possíveis ajustes de parâmetros podem ser feitos em outro momento para evitar essa tendência."
      ],
      "metadata": {
        "id": "s_5g36WPURu5"
      }
    },
    {
      "cell_type": "code",
      "source": [
        "from transformers import AutoModelForTokenClassification, TrainingArguments, Trainer\n",
        "\n",
        "model = AutoModelForTokenClassification.from_pretrained(\n",
        "    \"pablocosta/bertabaporu-base-uncased\",\n",
        "    num_labels=len(tag2idx)\n",
        ")\n",
        "\n",
        "training_args = TrainingArguments(\n",
        "    output_dir=\"./\",\n",
        "    evaluation_strategy=\"epoch\",\n",
        "    learning_rate=5e-5,\n",
        "    per_device_train_batch_size=16,\n",
        "    per_device_eval_batch_size=16,\n",
        "    num_train_epochs=3,\n",
        "    weight_decay=0.01,\n",
        "    logging_dir=\"./logs\",\n",
        "    save_strategy=\"epoch\",\n",
        "    report_to=[]\n",
        ")\n",
        "\n",
        "trainer = Trainer(\n",
        "    model=model,\n",
        "    args=training_args,\n",
        "    train_dataset=train_dataset,\n",
        "    eval_dataset=val_dataset,\n",
        "    tokenizer=tokenizer\n",
        ")\n",
        "\n",
        "trainer.train()"
      ],
      "metadata": {
        "colab": {
          "base_uri": "https://localhost:8080/",
          "height": 328
        },
        "id": "pO307T_RCpMu",
        "outputId": "4adc8cf7-a4b5-4a3a-e909-dd585ad35b97"
      },
      "execution_count": null,
      "outputs": [
        {
          "output_type": "stream",
          "name": "stderr",
          "text": [
            "Some weights of BertForTokenClassification were not initialized from the model checkpoint at pablocosta/bertabaporu-base-uncased and are newly initialized: ['classifier.bias', 'classifier.weight']\n",
            "You should probably TRAIN this model on a down-stream task to be able to use it for predictions and inference.\n",
            "/usr/local/lib/python3.11/dist-packages/transformers/training_args.py:1575: FutureWarning: `evaluation_strategy` is deprecated and will be removed in version 4.46 of 🤗 Transformers. Use `eval_strategy` instead\n",
            "  warnings.warn(\n",
            "<ipython-input-9-343a8c10cda0>:24: FutureWarning: `tokenizer` is deprecated and will be removed in version 5.0.0 for `Trainer.__init__`. Use `processing_class` instead.\n",
            "  trainer = Trainer(\n"
          ]
        },
        {
          "output_type": "display_data",
          "data": {
            "text/plain": [
              "<IPython.core.display.HTML object>"
            ],
            "text/html": [
              "\n",
              "    <div>\n",
              "      \n",
              "      <progress value='7116' max='7116' style='width:300px; height:20px; vertical-align: middle;'></progress>\n",
              "      [7116/7116 1:14:17, Epoch 3/3]\n",
              "    </div>\n",
              "    <table border=\"1\" class=\"dataframe\">\n",
              "  <thead>\n",
              " <tr style=\"text-align: left;\">\n",
              "      <th>Epoch</th>\n",
              "      <th>Training Loss</th>\n",
              "      <th>Validation Loss</th>\n",
              "    </tr>\n",
              "  </thead>\n",
              "  <tbody>\n",
              "    <tr>\n",
              "      <td>1</td>\n",
              "      <td>0.103500</td>\n",
              "      <td>0.090088</td>\n",
              "    </tr>\n",
              "    <tr>\n",
              "      <td>2</td>\n",
              "      <td>0.056000</td>\n",
              "      <td>0.087330</td>\n",
              "    </tr>\n",
              "    <tr>\n",
              "      <td>3</td>\n",
              "      <td>0.029100</td>\n",
              "      <td>0.093043</td>\n",
              "    </tr>\n",
              "  </tbody>\n",
              "</table><p>"
            ]
          },
          "metadata": {}
        },
        {
          "output_type": "execute_result",
          "data": {
            "text/plain": [
              "TrainOutput(global_step=7116, training_loss=0.07619196079365653, metrics={'train_runtime': 4459.1753, 'train_samples_per_second': 25.53, 'train_steps_per_second': 1.596, 'total_flos': 1.2726604379669904e+16, 'train_loss': 0.07619196079365653, 'epoch': 3.0})"
            ]
          },
          "metadata": {},
          "execution_count": 9
        }
      ]
    },
    {
      "cell_type": "markdown",
      "source": [
        "##Avaliação da precisão do modelo para a tarefa de POS Tagging\n",
        "\n",
        "No geral, o modelo apresentou bom desempenho, com uma precisão geral de 0.97 e um F1-score médio ponderado de 0.97. Algumas classes específicas, como \"PU\" (pontuação), \"V\" (verbos) e \"ART\" (artigos), atingiram F1-scores próximos ou iguais a 1.00, indicando que o modelo tem uma alta capacidade de identificar esses rótulos de forma consistente. Uma possível explicação é a singularidade dessas categorias, uma vez que pontuações representam conjuntos de símbolos específicos apenas para o propósito dessa classificação. Artigos tambḿ compõem uma classe mais restrita de palavras, e não apresentam tanta variedade de uso gramatical. Os verbos, por serem estruturas centrais em sentenças e orações, também apresentam padrões de terminações devido às suas conjugações, uma possível explicação para a maior facilidade na rotulação.\n",
        "\n",
        "Em contrapartida, a classe IN(Interjeições) apresentou o menor F1-Score(0.56), e bem abaixo da média dessa métrica em relação às outras tags. Um possível fator que dificultou a rotulação dessa categoria é a análise de contexto que deve-se realizar em relação a ela: no manual das tags do corpus MacMorpho,as interjeições podem ser caracterizadas como invocações, chamamentos, demonstrações de interesse e surpresa, xingamentos, e palavras que sinalizam estados de emoção em geral. A alta diversidade de representações e a sinalização de \"sentimentos\" em uma sentença(levando a uma interpretação mais sofisticada) dessa tag pode ser um fator de maior dificuldade de classificação por parte do modelo.\n",
        "\n",
        "Outras classes, como PREP+PRO-KS(preposição com pronome conectivo subordinativo) e ADV-KS(advérbio conectivo subordinativo), apresentaram F1-scores mais baixos também(em torno de 0.85 a 0.87), possivelmente devido ao menor número de exemplos apresentados, o que pode dificultar o aprendizado do modelo.\n",
        "\n",
        "O desempenho macro médio, que considera todas as classes igualmente, também foi alto, com um F1-score de 0.93, refletindo a capacidade do modelo de generalizar bem para diferentes rótulos. A discrepância entre as métricas macro e ponderada indica que o modelo lida melhor com classes majoritárias do que com classes menos frequentes. No entanto, as métricas gerais indicam que o modelo BERTabaporu é eficaz e adequado para a tarefa de classificação de tokens, com desempenho robusto na maioria das classes."
      ],
      "metadata": {
        "id": "nYUU1UW3V9d-"
      }
    },
    {
      "cell_type": "code",
      "source": [
        "# Avaliação do desempenho do modelo no conjunto de teste, gerando um relatório de classificação\n",
        "\n",
        "from sklearn.metrics import classification_report\n",
        "import numpy as np\n",
        "\n",
        "label_list = list(tag2idx.keys())\n",
        "\n",
        "predictions, true_labels, _ = trainer.predict(test_dataset)\n",
        "pred_labels = np.argmax(predictions, axis=2)\n",
        "\n",
        "# Excluir os rótulos de padding se necessário (dependendo do seu conjunto de dados)\n",
        "mask = true_labels != -100  # Assumindo que -100 é o valor de padding\n",
        "\n",
        "true_labels = true_labels[mask]\n",
        "pred_labels = pred_labels[mask]\n",
        "\n",
        "report = classification_report(true_labels, pred_labels, target_names=label_list)\n",
        "print(report)"
      ],
      "metadata": {
        "colab": {
          "base_uri": "https://localhost:8080/",
          "height": 668
        },
        "id": "PD3oTYUJjLkV",
        "outputId": "8adce4f9-d88e-4500-e1b3-882ae19a9824"
      },
      "execution_count": null,
      "outputs": [
        {
          "output_type": "display_data",
          "data": {
            "text/plain": [
              "<IPython.core.display.HTML object>"
            ],
            "text/html": [
              "\n",
              "    <div>\n",
              "      \n",
              "      <progress value='None' max='1689111' style='width:300px; height:20px; vertical-align: middle;'></progress>\n",
              "      None\n",
              "    </div>\n",
              "    <table border=\"1\" class=\"dataframe\">\n",
              "  <thead>\n",
              " <tr style=\"text-align: left;\">\n",
              "      <th>Epoch</th>\n",
              "      <th>Training Loss</th>\n",
              "      <th>Validation Loss</th>\n",
              "    </tr>\n",
              "  </thead>\n",
              "  <tbody>\n",
              "  </tbody>\n",
              "</table><p>\n",
              "    <div>\n",
              "      \n",
              "      <progress value='625' max='625' style='width:300px; height:20px; vertical-align: middle;'></progress>\n",
              "      [625/625 02:25]\n",
              "    </div>\n",
              "    "
            ]
          },
          "metadata": {}
        },
        {
          "output_type": "stream",
          "name": "stdout",
          "text": [
            "              precision    recall  f1-score   support\n",
            "\n",
            " PREP+PRO-KS       0.88      0.86      0.87        58\n",
            "      PROADJ       0.97      0.98      0.97      3419\n",
            "    PREP+ADV       0.97      0.90      0.93        31\n",
            "         CUR       0.99      1.00      0.99       296\n",
            "          IN       0.49      0.64      0.56        98\n",
            "         ADJ       0.95      0.95      0.95      8554\n",
            "         NUM       0.96      0.96      0.96      2541\n",
            "        PDEN       0.88      0.91      0.90      1092\n",
            "          KC       0.97      0.97      0.97      4531\n",
            "       NPROP       0.94      0.93      0.94     15936\n",
            "    PREP+ART       0.98      0.98      0.98     10219\n",
            "          KS       0.92      0.92      0.92      2538\n",
            " PREP+PROSUB       0.89      0.85      0.87       156\n",
            "         ART       0.98      0.99      0.99     12580\n",
            " PREP+PROADJ       1.00      0.99      1.00       309\n",
            "           V       0.99      0.99      0.99     19711\n",
            "         PCP       0.97      0.96      0.96      3640\n",
            "PREP+PROPESS       1.00      0.98      0.99       126\n",
            "         ADV       0.93      0.93      0.93      5446\n",
            "           N       0.97      0.97      0.97     36542\n",
            "        PREP       0.98      0.98      0.98     16778\n",
            "     PROPESS       0.99      0.99      0.99      2876\n",
            "      PRO-KS       0.91      0.96      0.93      2195\n",
            "      ADV-KS       0.87      0.84      0.85       230\n",
            "      PROSUB       0.92      0.87      0.90      1567\n",
            "          PU       1.00      1.00      1.00     26904\n",
            "\n",
            "    accuracy                           0.97    178373\n",
            "   macro avg       0.93      0.93      0.93    178373\n",
            "weighted avg       0.97      0.97      0.97    178373\n",
            "\n"
          ]
        }
      ]
    },
    {
      "cell_type": "code",
      "source": [
        "# Salvando o modelo\n",
        "\n",
        "save_directory = \"./trained_model\"\n",
        "model.save_pretrained(save_directory)\n",
        "tokenizer.save_pretrained(save_directory)"
      ],
      "metadata": {
        "colab": {
          "base_uri": "https://localhost:8080/"
        },
        "id": "b55FEFZ7sF3p",
        "outputId": "980c1043-2990-4e0b-c6ae-ba3bc50af8fb"
      },
      "execution_count": null,
      "outputs": [
        {
          "output_type": "stream",
          "name": "stdout",
          "text": [
            "Modelo e tokenizador salvos no diretório: ./trained_model\n"
          ]
        }
      ]
    },
    {
      "cell_type": "code",
      "source": [
        "from transformers import AutoModelForTokenClassification, AutoTokenizer\n",
        "\n",
        "# Carregar o modelo e o tokenizador salvos\n",
        "model = AutoModelForTokenClassification.from_pretrained(\"./trained_model\")\n",
        "tokenizer = AutoTokenizer.from_pretrained(\"./trained_model\")"
      ],
      "metadata": {
        "id": "pvrJNGJlss3E"
      },
      "execution_count": null,
      "outputs": []
    }
  ]
}